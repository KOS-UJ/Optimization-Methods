{
 "cells": [
  {
   "cell_type": "markdown",
   "source": [
    "## Metoda kierunków sprzężonych Powella jako metoda bezgradientowa\n",
    "\n",
    "Jest to metoda bezgradientowego poszukiwania minimum funkcji. Oznaczmy tę funkcję jako f. Przedstawia się ta metoda następująco:\n",
    "\n",
    "1. Mamy daną bazę kanoniczną B przestrzeni wymiaru n, w której poszukujemy rozwiązania (wektory liniowo niezależne o jednej współrzędnej 1, pozostałych 0) i punkt początkowy x.\n",
    "2. Zapamiętujemy położenie punktu x jako x_old.\n",
    "3. Kolejno dla każdego kierunku z bazy B dokonujemy optymalizacji kierunkowej (jak w metodzie największego spadku) modyfikując x n razy.\n",
    "4. Wyznaczamy tzw. kierunek sprzężony $s = \\frac{x-x_{old}}{||x-x_{old}||}$.\n",
    "5. Dokonujemy optymalizacji kierunkowej w kierunku s.\n",
    "6. Zamieniamy jeden wektor z bazy B na s (np. dołączamy go jako ostatni wektor do B, a następnie usuwamy pierwszy wektor z B).\n",
    "7. Sprawdzamy warunek stopu (np. $||x-x_{old}||<\\epsilon$). Jeżeli nie jest spełniony, to wracamy do 2.\n",
    "\n",
    "Istnieje pewne ryzyko, że nasza baza przestanie być bazą ze względu na utracenie liniowej niezależności wektorów, przez co powstały pewne modyfikacje tej metody. W wypadku optymalizacji dwuwymiarowej nie jest to problemem, lecz więcej można przeczytać na ten temat np. w: [http://www.kmg.zut.edu.pl/opt/wyklad/bezgrad/1powell.html](http://www.kmg.zut.edu.pl/opt/wyklad/bezgrad/1powell.html)\n",
    "\n",
    "### Zadanie 1 (2 pkt)\n",
    "Zastosuj ten algorytm do minimalizacji funkcji Rosenbrocka danej wzorem $f(x,y)=(1-x)^2 + 100(y-x^2)^2$"
   ],
   "metadata": {
    "collapsed": false,
    "pycharm": {
     "name": "#%% md\n"
    }
   }
  },
  {
   "cell_type": "code",
   "execution_count": 2,
   "metadata": {
    "collapsed": true,
    "pycharm": {
     "name": "#%%\n"
    }
   },
   "outputs": [],
   "source": [
    "import numpy as np\n",
    "import math\n",
    "import matplotlib.pyplot as plt"
   ]
  },
  {
   "cell_type": "code",
   "execution_count": 3,
   "outputs": [],
   "source": [
    "## PISZ TUTAJ"
   ],
   "metadata": {
    "collapsed": false,
    "pycharm": {
     "name": "#%%\n"
    }
   }
  },
  {
   "cell_type": "code",
   "execution_count": 4,
   "outputs": [
    {
     "data": {
      "text/plain": "[<matplotlib.lines.Line2D at 0x22060dc30c8>]"
     },
     "execution_count": 4,
     "metadata": {},
     "output_type": "execute_result"
    },
    {
     "data": {
      "text/plain": "<Figure size 432x288 with 1 Axes>",
      "image/png": "[encoded data removed]"
     },
     "metadata": {
      "needs_background": "light"
     },
     "output_type": "display_data"
    }
   ],
   "source": [
    "x = np.linspace(-1,2,100)\n",
    "y = np.linspace(-1,2,100)\n",
    "xx,yy = np.meshgrid(x,y)\n",
    "z = function(np.array([xx,yy]))\n",
    "plt.contourf(xx,yy,z, levels=20)\n",
    "plt.plot(history[:,0],history[:,1], '-o', c='r')"
   ],
   "metadata": {
    "collapsed": false,
    "pycharm": {
     "name": "#%%\n"
    }
   }
  },
  {
   "cell_type": "markdown",
   "source": [
    "## Zadanie 2 - Sprężyste ciało (4 pkt)\n",
    "\n",
    "Mamy prostokątne ciało sprężyste o (domyślnych) wymiarach 5x1 zaczepione po bokach. Okazuje się, że możemy wyznaczyć jego odkształcenie pod wpływem działających sił rozwiązując pewne zadanie optymalizacji."
   ],
   "metadata": {
    "collapsed": false,
    "pycharm": {
     "name": "#%% md\n"
    }
   }
  },
  {
   "cell_type": "code",
   "execution_count": 5,
   "outputs": [],
   "source": [
    "from scipy import optimize"
   ],
   "metadata": {
    "collapsed": false,
    "pycharm": {
     "name": "#%%\n"
    }
   }
  },
  {
   "cell_type": "markdown",
   "source": [
    "Komórka poniżej zawiera parametry ciała, które możesz zmieniać. mi i lambda_ to tzw. stałe Lamego charakterystyczne dla materiału. dx oznacza ilość punktów na każdą jednostkę długości (im więcej, tym \"gęstsze obliczenia\").\n",
    "fx i fy to siły wewnętrzne działające na ciało - funkcja dla danej wartości x i y zwraca gęstość siły odpowiednio wzdłuż osi x i y."
   ],
   "metadata": {
    "collapsed": false,
    "pycharm": {
     "name": "#%% md\n"
    }
   }
  },
  {
   "cell_type": "code",
   "execution_count": 6,
   "outputs": [],
   "source": [
    "mi = 0.385\n",
    "lambda_ = 0.13\n",
    "dx = 5\n",
    "\n",
    "size_y = 1\n",
    "size_x = 5\n",
    "\n",
    "def fx(x, y):\n",
    "    x = np.array(x)\n",
    "    y = np.array(y)\n",
    "    result = np.zeros_like(x)\n",
    "    cond = (0 <= x) & (x <= 5) & (0 <= y) & (y <= 1)\n",
    "    result[cond] = 0\n",
    "    return result\n",
    "\n",
    "def fy(x, y):\n",
    "    x = np.array(x)\n",
    "    y = np.array(y)\n",
    "    result = np.zeros_like(x)\n",
    "    cond = (0 <= x) & (x <= 5) & (0 <= y) & (y <= 1)\n",
    "    result[cond] = -0.03\n",
    "    return result"
   ],
   "metadata": {
    "collapsed": false,
    "pycharm": {
     "name": "#%%\n"
    }
   }
  },
  {
   "cell_type": "markdown",
   "source": [
    "W komórce poniżej dzieją się straszne rzeczy. Jeżeli chcesz je zrozumieć, to proponuję zapoznać się z metodą elementów skończonych np. na kursie Numeryczne Rozwiązywanie Równań Różniczkowych Cząstkowych. Do zadania nie jest zupełnie potrzebne."
   ],
   "metadata": {
    "collapsed": false,
    "pycharm": {
     "name": "#%% md\n"
    }
   }
  },
  {
   "cell_type": "code",
   "execution_count": 7,
   "outputs": [],
   "source": [
    "points_y = size_y * dx\n",
    "points_x = size_x * dx\n",
    "aOfElements = (points_y + 1) * (points_x - 1)\n",
    "triangle_surface_part = 0.5\n",
    "phinum = [(a, b) for a in range(points_x - 1) for b in range(points_y + 1)]\n",
    "\n",
    "A = np.zeros((aOfElements * 2, aOfElements * 2))\n",
    "F = np.zeros(aOfElements * 2)\n",
    "#(a,0),(b,0)\n",
    "for i in range(aOfElements):\n",
    "    for j in range(aOfElements):\n",
    "        if i == j:\n",
    "            A[i, j] = (12 * mi + 4 * lambda_) * triangle_surface_part\n",
    "            if phinum[i][1] in [0, points_y]:\n",
    "                A[i, j] = A[i, j] / 2\n",
    "        elif phinum[i][0] in [phinum[j][0] + 1, phinum[j][0] - 1] and phinum[i][1] == phinum[j][1]:\n",
    "            A[i, j] = (-4 * mi - 2 * lambda_) * triangle_surface_part\n",
    "            if phinum[i][1] in [0, points_y]:\n",
    "                A[i, j] = A[i, j] / 2\n",
    "        elif phinum[i][1] in [phinum[j][1] + 1, phinum[j][1] - 1] and phinum[i][0] == phinum[j][0]:\n",
    "            A[i, j] = -2 * mi * triangle_surface_part\n",
    "#(0,a),(0,b)\n",
    "for i in range(aOfElements):\n",
    "    for j in range(aOfElements):\n",
    "        if i == j:\n",
    "            A[i + aOfElements, j + aOfElements] = (4 * lambda_ + 12 * mi) * triangle_surface_part\n",
    "            if phinum[i][1] in [0, points_y]:\n",
    "                A[i + aOfElements, j + aOfElements] /= 2\n",
    "        elif phinum[i][0] in [phinum[j][0] + 1, phinum[j][0] - 1] and phinum[i][1] == phinum[j][1]:\n",
    "            A[i + aOfElements, j + aOfElements] = -2 * mi * triangle_surface_part\n",
    "            if phinum[i][1] in [0, points_y]:\n",
    "                A[i + aOfElements, j + aOfElements] /= 2\n",
    "        elif phinum[i][1] in [phinum[j][1] + 1, phinum[j][1] - 1] and phinum[i][0] == phinum[j][0]:\n",
    "            A[i + aOfElements, j + aOfElements] = (-4 * mi - 2 * lambda_) * triangle_surface_part\n",
    "#(a,0),(0,b) and (0,a),(b,0)\n",
    "for i in range(aOfElements):\n",
    "    for j in range(aOfElements):\n",
    "        if i == j:\n",
    "            A[i, j + aOfElements] = (2 * lambda_ + 2 * mi) * triangle_surface_part\n",
    "            if phinum[i][1] in [0, points_y]:\n",
    "                A[i, j + aOfElements] /= 2\n",
    "        elif abs(phinum[i][0] - phinum[j][0]) == 1 and phinum[i][1] == phinum[j][1]:\n",
    "            if phinum[i][1] == 0:\n",
    "                if i > j:\n",
    "                    A[i, j + aOfElements] = -lambda_ * triangle_surface_part\n",
    "                else:\n",
    "                    A[i, j + aOfElements] = -mi * triangle_surface_part\n",
    "            elif phinum[i][1] == points_y:\n",
    "                if i > j:\n",
    "                    A[i, j + aOfElements] = -mi * triangle_surface_part\n",
    "                else:\n",
    "                    A[i, j + aOfElements] = -lambda_ * triangle_surface_part\n",
    "            else:\n",
    "                A[i, j + aOfElements] = (-mi - lambda_) * triangle_surface_part\n",
    "        elif abs(phinum[i][1] - phinum[j][1]) == 1 and phinum[i][0] == phinum[j][0]:\n",
    "            A[i, j + aOfElements] = (-mi - lambda_) * triangle_surface_part\n",
    "        elif (phinum[i][1] == phinum[j][1] + 1 and phinum[i][0] == phinum[j][0] - 1) or (\n",
    "                phinum[i][1] == phinum[j][1] - 1 and phinum[i][0] == phinum[j][0] + 1):\n",
    "            A[i, j + aOfElements] = (mi + lambda_) * triangle_surface_part\n",
    "A[aOfElements:, :aOfElements] = A[:aOfElements, aOfElements:].T\n",
    "\n",
    "for i in range(aOfElements):\n",
    "    F[i] = (1/dx) ** 2 * fx((phinum[i][0]+1) / dx, (phinum[i][1]) / dx)\n",
    "    F[i + aOfElements] = (1/dx) ** 2 * fy((phinum[i][0]+1) / dx, (phinum[i][1]) / dx)\n",
    "    if phinum[i][1] in [0, points_y]:\n",
    "        F[i] = F[i] / 2\n",
    "        F[i + aOfElements] = F[i + aOfElements] / 2\n",
    "\n",
    "u = np.zeros([aOfElements, 2])\n",
    "contact = []\n",
    "for i in range(aOfElements):\n",
    "    u[i] = np.array([(phinum[i][0] + 1) / dx, (phinum[i][1]) / dx])\n",
    "    if phinum[i][1] == 0:\n",
    "        contact.append(i)"
   ],
   "metadata": {
    "collapsed": false,
    "pycharm": {
     "name": "#%%\n"
    }
   }
  },
  {
   "cell_type": "markdown",
   "source": [
    "Poniżej mamy narysowane poszczególne punkty ciała. u[i] przechowuje współrzędne i-tego punktu, którego będziemy wyliczać odkształcenie."
   ],
   "metadata": {
    "collapsed": false,
    "pycharm": {
     "name": "#%% md\n"
    }
   }
  },
  {
   "cell_type": "code",
   "execution_count": 8,
   "outputs": [
    {
     "data": {
      "text/plain": "(-1, 1.1)"
     },
     "execution_count": 8,
     "metadata": {},
     "output_type": "execute_result"
    },
    {
     "data": {
      "text/plain": "<Figure size 1440x432 with 1 Axes>",
      "image/png": "[encoded data removed]"
     },
     "metadata": {
      "needs_background": "light"
     },
     "output_type": "display_data"
    }
   ],
   "source": [
    "plt.figure(figsize=(20, 6))\n",
    "plt.scatter(u[:,0], u[:,1])\n",
    "plt.ylim(-1,1.1)"
   ],
   "metadata": {
    "collapsed": false,
    "pycharm": {
     "name": "#%%\n"
    }
   }
  },
  {
   "cell_type": "markdown",
   "source": [
    "Twoim zadaniem jest zminimalizować poniższy \"funkcjonał\" wykorzystując 2 różne metody pakietu `scipy.optimize`. Jeżeli mamy N punktów naszego ciała, to ta funkcja przyjmuje wektor długości 2*N. Argumenty, dla których poniższa funkcja osiąga minimum, dają nam przemieszczenie poszczególnych punktów, a konkretnie to dla i-tego punktu a[i] oznacza przemieszczenie wzdłuż osi x, a a[i + aOfElements] przemieszczenie wzdłuż osi y.\n",
    "Zakładamy, że pod ciałem znajduje się jakaś przeszkoda stawiająca opór - współczynnik `coeff` charakteryzuje jaki opór stawia - im większa wartość, to tym większy opór, 0 oznacza brak oporu.\n",
    "Zwizualizuj kształt odkształconego ciała na wykresie."
   ],
   "metadata": {
    "collapsed": false,
    "pycharm": {
     "name": "#%% md\n"
    }
   }
  },
  {
   "cell_type": "code",
   "execution_count": 9,
   "outputs": [
    {
     "name": "stdout",
     "output_type": "stream",
     "text": [
      "Optimization terminated successfully.\n",
      "         Current function value: -0.036165\n",
      "         Iterations: 70\n",
      "         Function evaluations: 183139\n"
     ]
    }
   ],
   "source": [
    "coeff = 1\n",
    "def functional(a):\n",
    "    cond = a[contact] < 0\n",
    "    return 0.5 * a @ A @ a - F @ a + coeff * np.sum(-a[contact][cond])\n",
    "\n",
    "## PISZ TUTAJ\n"
   ],
   "metadata": {
    "collapsed": false,
    "pycharm": {
     "name": "#%%\n"
    }
   }
  },
  {
   "cell_type": "code",
   "execution_count": 10,
   "outputs": [
    {
     "data": {
      "text/plain": "(-1, 1.1)"
     },
     "execution_count": 10,
     "metadata": {},
     "output_type": "execute_result"
    },
    {
     "data": {
      "text/plain": "<Figure size 1440x432 with 1 Axes>",
      "image/png": "[encoded data removed]"
     },
     "metadata": {
      "needs_background": "light"
     },
     "output_type": "display_data"
    }
   ],
   "source": [
    "## przykładowy wykres symulacji bez oporu"
   ],
   "metadata": {
    "collapsed": false,
    "pycharm": {
     "name": "#%%\n"
    }
   }
  },
  {
   "cell_type": "code",
   "execution_count": 194,
   "outputs": [
    {
     "data": {
      "text/plain": "(-1, 1.1)"
     },
     "execution_count": 194,
     "metadata": {},
     "output_type": "execute_result"
    },
    {
     "data": {
      "text/plain": "<Figure size 1440x432 with 1 Axes>",
      "image/png": "[encoded data removed]"
     },
     "metadata": {
      "needs_background": "light"
     },
     "output_type": "display_data"
    }
   ],
   "source": [
    "## przykładowy wykres symulacji z coeff = 1"
   ],
   "metadata": {
    "collapsed": false,
    "pycharm": {
     "name": "#%%\n"
    }
   }
  },
  {
   "cell_type": "code",
   "execution_count": null,
   "outputs": [],
   "source": [],
   "metadata": {
    "collapsed": false,
    "pycharm": {
     "name": "#%%\n"
    }
   }
  }
 ],
 "metadata": {
  "kernelspec": {
   "display_name": "Python 3",
   "language": "python",
   "name": "python3"
  },
  "language_info": {
   "codemirror_mode": {
    "name": "ipython",
    "version": 2
   },
   "file_extension": ".py",
   "mimetype": "text/x-python",
   "name": "python",
   "nbconvert_exporter": "python",
   "pygments_lexer": "ipython2",
   "version": "2.7.6"
  }
 },
 "nbformat": 4,
 "nbformat_minor": 0
}