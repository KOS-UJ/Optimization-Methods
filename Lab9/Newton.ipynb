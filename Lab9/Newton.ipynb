{
 "cells": [
  {
   "cell_type": "markdown",
   "source": [
    "## Metoda Newtona i Quasi-Newtona (zmiennej metryki)\n",
    "\n",
    "Możesz kojarzyć metodę Newtona z przedmiotu metody numeryczne, jako metodę iteracyjnego znajdowania rozwiązań pierwiastków funkcji nieliniowych. Konkretnie to przedstawiała się następująco:\n",
    "Mamy różniczkowalną funkcję $f:\\mathbb{R}\\rightarrow\\mathbb{R}$ i punkt początkowy $x_0$. I poprzez kolejne iteracje $x_n=x_{n-1}-\\frac{f(x_{n-1})}{f'(x_{n-1})}$ znajdujemy kolejne przybliżenie miejsca zerowego.\n",
    "\n",
    "W przypadku wielowymiarowym mamy $f:\\mathbb{R^m}\\rightarrow\\mathbb{R^m}$ oraz iteracje $x_n=x_{n-1}-{\\nabla f(x_{n-1})}^{-1}f(x_{n-1})$.\n",
    "\n",
    "Załóżmy, że chcemy zminimalizować funkcję $g:\\mathbb{R^m}\\rightarrow\\mathbb{R}$. Wiemy, że warunkiem koniecznym optymalności jest aby $\\nabla g(x)=0$. Poszukajmy zatem miejsca zerowego $\\nabla g:\\mathbb{R^m}\\rightarrow\\mathbb{R^m}$ wykorzystując metodę Newtona:\n",
    "1. Wybierz $eps > 0$ oraz $x_0\\in \\mathbb{R^m}$, n=0\n",
    "2. Wyznacz $x_{n+1}=x_{n}-{H g(x_{n})}^{-1}\\nabla g(x_{n})$\n",
    "3. n += 1\n",
    "4. Jeżeli $||x_{n}-x_{n-1}||>eps$, to wróć do 2.\n",
    "5. Zwróć $x_n$.\n",
    "\n",
    "gdzie $Hg$ to macierz Hessego funkcji g.\n",
    "\n",
    "### Zadanie 1 (2 pkt)\n",
    "Zaimplementuj metodę Newtona minimalizacji funkcji $f(x,y)=\\frac{1}{2}(10x^2+y^2)+5*\\log(1+e^{-x-y})$ i porównaj ją z metodą gradientu prostego. Sporządź wykres błędu obu metod od ilości iteracji oraz wykres, na którym zaznaczysz kolejne położenia przybliżeń metody. Możesz wykorzystać metody grad i hessian z pakietu autograd.\n",
    "\n",
    "Wskazówka: dla przykładowego wykresu zastosowano krok metody gradientu prostego $\\alpha=0.09$"
   ],
   "metadata": {
    "collapsed": false,
    "pycharm": {
     "name": "#%% md\n"
    }
   }
  },
  {
   "cell_type": "code",
   "execution_count": 99,
   "metadata": {
    "collapsed": true,
    "pycharm": {
     "name": "#%%\n"
    }
   },
   "outputs": [],
   "source": [
    "from autograd import grad, hessian\n",
    "from autograd import numpy as np\n",
    "import matplotlib.pyplot as plt"
   ]
  },
  {
   "cell_type": "code",
   "execution_count": 225,
   "outputs": [],
   "source": [
    "## PISZ TUTAJ"
   ],
   "metadata": {
    "collapsed": false,
    "pycharm": {
     "name": "#%%\n"
    }
   }
  },
  {
   "cell_type": "code",
   "execution_count": 208,
   "outputs": [
    {
     "data": {
      "text/plain": "[<matplotlib.lines.Line2D at 0x2392ff20f88>]"
     },
     "execution_count": 208,
     "metadata": {},
     "output_type": "execute_result"
    },
    {
     "data": {
      "text/plain": "<Figure size 432x288 with 1 Axes>",
      "image/png": "[encoded data removed]"
     },
     "metadata": {
      "needs_background": "light"
     },
     "output_type": "display_data"
    }
   ],
   "source": [
    "## PISZ TUTAJ"
   ],
   "metadata": {
    "collapsed": false,
    "pycharm": {
     "name": "#%%\n"
    }
   }
  },
  {
   "cell_type": "code",
   "execution_count": 209,
   "outputs": [
    {
     "data": {
      "text/plain": "[<matplotlib.lines.Line2D at 0x23931089b08>]"
     },
     "execution_count": 209,
     "metadata": {},
     "output_type": "execute_result"
    },
    {
     "data": {
      "text/plain": "<Figure size 432x288 with 1 Axes>",
      "image/png": "[encoded data removed]"
     },
     "metadata": {
      "needs_background": "light"
     },
     "output_type": "display_data"
    }
   ],
   "source": [
    "x = np.linspace(-10,25,100)\n",
    "y = np.linspace(-10,25,100)\n",
    "xx,yy = np.meshgrid(x,y)\n",
    "z = function(np.array([xx,yy]))\n",
    "plt.contourf(xx,yy,z)\n",
    "plt.plot(history1[:,0],history1[:,1], '-o', c='r')\n",
    "plt.plot(history2[:,0],history2[:,1], '-o', c='b')"
   ],
   "metadata": {
    "collapsed": false,
    "pycharm": {
     "name": "#%%\n"
    }
   }
  },
  {
   "cell_type": "markdown",
   "source": [
    "Dla punktów początkowych położonych blisko ekstremum metoda Newtona charakteryzuje się szybką zbieżnością - kwadratową. W wypadku uogólnionej metody Newtona wyznaczamy kolejne przybliżenia ekstremum następująco:\n",
    "1. $x_{n+1}=x_n+\\alpha d_n$, gdzie $\\alpha=\\text{arg}\\min_\\alpha(g(x_n+\\alpha d_n))$, gdzie\n",
    "2. $d_n = -V_n\\nabla g(x_n)$, gdzie\n",
    "3. $V_n = (H g(x_n))^{-1}$\n",
    "\n",
    "Szczególnie dla funkcji wielu zmiennych obliczanie macierzy Hessego i jej odwracanie może być kosztowne obliczeniowo. Dlatego, zamiast go wyliczać, można wyznaczać jego przybliżenia w kolejnych krokach za pomocą wzorów korekcyjnych otrzymując tzw. metodę zmiennej metryki, znaną też jako metoda quasi-Newtona.\n",
    "\n",
    "Algorytm przedstawia się następująco:\n",
    "1. Wybierz punkt początkowy $x_0$ oraz przybliżenie odwrotności macierzy Hessego $V_0$ (najczęściej wystarczy macierz jednostkowa $I$).\n",
    "2. $d_n = -V_n\\nabla g(x_n)$\n",
    "3. Znajdź $\\alpha_n \\geq 0$ takie, że $\\alpha_n=\\text{arg}\\min_\\alpha(g(x_n+\\alpha d_n))$\n",
    "4. $\\delta_n=\\alpha_n d_n$\n",
    "5. $x_{n+1}=x_n+\\delta$\n",
    "6. Jeżeli $||\\nabla g(x_{n+1})|| < eps$, to zwróć $x_{n+1}$\n",
    "7. $\\gamma_n=\\nabla g(x_{n+1})-\\nabla g(x_n)$\n",
    "8. $V_{n+1}=$ jeden z wzorów korekcyjnych\n",
    "9. n += 1\n",
    "\n",
    "Jednym ze wzorów korekcyjnych jest wzór Broydena–Fletchera–Goldfarba–Shanno (BFGS):\n",
    "\n",
    "$$V_{n+1} = \\left(I - \\frac{\\delta_n \\gamma_n^{\\mathrm T}}{\\delta_k^{\\mathrm T} \\gamma_n}\\right) V_n \\left(I - \\frac{\\gamma_n \\delta_n^{\\mathrm T}}{\\delta_n^{\\mathrm T} \\gamma_n}\\right) + \\frac{\\delta_n \\delta_n^{\\mathrm T}}{\\delta_k^{\\mathrm T} \\, \\gamma_n}$$\n",
    "\n",
    "Wśród wzorów korekcyjnych można wymienić także wzór Davidona-Fletchera-Powella, czy Wolfe'a-Broydena-Davidona.\n",
    "\n",
    "### Zad 2 (2 pkt)\n",
    "Zaimplementuj metodę zmiennej metryki wraz ze wzorem korekcyjnym BFGS i przetestuj ją na funkcji z poprzedniego zadania. Dla porównania wykorzystaj też metodę `minimize` z pakietu `scipy.optimize`, która domyślnie korzysta z metody BFGS.\n",
    "\n",
    "Co się stanie, gdy podamy oraz gdy nie podamy argumentu \"jac\"?"
   ],
   "metadata": {
    "collapsed": false,
    "pycharm": {
     "name": "#%% md\n"
    }
   }
  },
  {
   "cell_type": "code",
   "execution_count": 223,
   "outputs": [],
   "source": [
    "from scipy import optimize"
   ],
   "metadata": {
    "collapsed": false,
    "pycharm": {
     "name": "#%%\n"
    }
   }
  },
  {
   "cell_type": "code",
   "execution_count": 235,
   "outputs": [
    {
     "name": "stdout",
     "output_type": "stream",
     "text": [
      "Optimization terminated successfully.\n",
      "         Current function value: 1.969726\n",
      "         Iterations: 9\n",
      "         Function evaluations: 44\n",
      "         Gradient evaluations: 11\n"
     ]
    },
    {
     "data": {
      "text/plain": "[<matplotlib.lines.Line2D at 0x239319f9f08>]"
     },
     "execution_count": 235,
     "metadata": {},
     "output_type": "execute_result"
    },
    {
     "data": {
      "text/plain": "<Figure size 432x288 with 1 Axes>",
      "image/png": "[encoded data removed]"
     },
     "metadata": {
      "needs_background": "light"
     },
     "output_type": "display_data"
    }
   ],
   "source": [
    "## PISZ TUTAJ\n",
    "x = np.linspace(-10,25,100)\n",
    "y = np.linspace(-10,25,100)\n",
    "xx,yy = np.meshgrid(x,y)\n",
    "z = ???\n",
    "plt.contourf(xx,yy,z)\n",
    "plt.plot(history[:,0],history[:,1], '-o', c='r')"
   ],
   "metadata": {
    "collapsed": false,
    "pycharm": {
     "name": "#%%\n"
    }
   }
  },
  {
   "cell_type": "markdown",
   "source": [
    "### Zad 3 (2 pkt)\n",
    "\n",
    "Rozwiąż następujący problem (wykorzystując wybrany przez siebie algorytm optymalizacji):\n",
    "a) Mamy do podziału 100zł pomiędzy 2 osoby. Pierwsza z osób jest biedna i ma tylko 10zł. Druga osoba jest nieco bogatsza i posiada 2000zł. Zakładamy, że użyteczność pieniędzy jest wprost proporcjonalna do logarytmu z ich ilości. Traktując problem podziału jako problem przetargu, rozwiązaniem problemu spełniający aksjomaty Nasha będzie funkcja maksymalizująca iloczyn przyrostu użyteczności obu osób.\n",
    "\n",
    "b) Mamy do podziału 100zł pomiędzy 3 osoby. Pierwsza z osób jest biedna i ma tylko 10zł. Druga osoba jest nieco bogatsza i posiada 2000zł, a trzecia posiada niezliczone ilości pieniędzy. Dalej zakładamy, że użyteczność pieniędzy będzie proporcjonalna do logarytmu z ich ilości, przy czym dla trzeciej osoby zależność wzrostu użyteczności od przyrostu pieniędzy jest w przybliżeniu liniowa. Jaki będzie podział kwoty maksymalizujący iloczyn przyrostu użyteczności wzystkich 3 osób?\n"
   ],
   "metadata": {
    "collapsed": false,
    "pycharm": {
     "name": "#%% md\n"
    }
   }
  },
  {
   "cell_type": "code",
   "execution_count": 221,
   "outputs": [
    {
     "name": "stdout",
     "output_type": "stream",
     "text": [
      "34.53596896141865 65.46403103858135\n"
     ]
    }
   ],
   "source": [
    "## PISZ TUTAJ"
   ],
   "metadata": {
    "collapsed": false,
    "pycharm": {
     "name": "#%%\n"
    }
   }
  },
  {
   "cell_type": "code",
   "execution_count": 232,
   "outputs": [
    {
     "name": "stdout",
     "output_type": "stream",
     "text": [
      "22.73388416928667 38.44943598092909 38.81667984978424\n"
     ]
    }
   ],
   "source": [
    "## PISZ TUTAJ"
   ],
   "metadata": {
    "collapsed": false,
    "pycharm": {
     "name": "#%%\n"
    }
   }
  },
  {
   "cell_type": "markdown",
   "source": [
    "Uwaga! Przy wyborze niektórych punktów startowych możemy utknąć w ekstremum, które nie ma sensu (np. ktoś ma otrzymać ujemną gotówkę). Jak temu zaradzić? O optymalizacji z ograniczeniami będzie w przyszłości na ćwiczeniach :)"
   ],
   "metadata": {
    "collapsed": false,
    "pycharm": {
     "name": "#%% md\n"
    }
   }
  },
  {
   "cell_type": "code",
   "execution_count": null,
   "outputs": [],
   "source": [],
   "metadata": {
    "collapsed": false,
    "pycharm": {
     "name": "#%%\n"
    }
   }
  }
 ],
 "metadata": {
  "kernelspec": {
   "display_name": "Python 3",
   "language": "python",
   "name": "python3"
  },
  "language_info": {
   "codemirror_mode": {
    "name": "ipython",
    "version": 2
   },
   "file_extension": ".py",
   "mimetype": "text/x-python",
   "name": "python",
   "nbconvert_exporter": "python",
   "pygments_lexer": "ipython2",
   "version": "2.7.6"
  }
 },
 "nbformat": 4,
 "nbformat_minor": 0
}