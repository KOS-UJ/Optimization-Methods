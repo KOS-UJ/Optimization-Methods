{
 "cells": [
  {
   "cell_type": "markdown",
   "source": [
    "## Metody Optymalizacji z ograniczeniami\n",
    "\n",
    "### Metoda rzutu gradientu\n",
    "\n",
    "Metoda rzutu gradientu jest modyfikacją metody gradientu prostego. Służy do optymalizacji z ograniczeniami nierównościowymi afinicznymi.\n",
    "\n",
    "Mamy zadanie minimalizacji $f(x)$, $x\\in \\mathbb{R}^n$ przy ograniczeniach $Ax\\leq b$, A jest macierzą m na n, $b \\in mathbb{R}^m$.\n",
    "\n",
    "1. Zaczynamy od punktu dopuszczalnego $x_0$. $n=0$\n",
    "2. Jeżeli nie mamy żadnych ograniczeń aktywnych, to wykonujemy krok metody gradientowego spadku.\n",
    "3. W przeciwnym wypadku dokonujemy rzutowania gradientu:\n",
    "$$ d_n := (I-A_iA_i^+)\\nabla f(x_n) $$\n",
    "Gdzie $A_i$ - to macierz A z wierszami dotyczącymi ograniczeń aktywnych, $A^+$ to tzw. pseudoodwrotność macierzy A, czyli $A^+:=A(A^TA)^{-1}A^T$\n",
    "I wykonujemy krok w przeciwnym kierunku do zrzutowanego gradientu:\n",
    "$$ x_{n+1} := x_n - \\alpha d_n $$\n",
    "4. Jeżeli w wyniku kroku opuściliśmy obszar rozwiązań dopuszczalnych, to cofamy się do poprzedniego $x_n$ i wykonujemy krok o mniejsze $\\alpha$ tak, aby co najwyżej aktywować ograniczenie (można wykorzystać wzór na odległość przecięcia prostej z płaszczyzną [https://en.wikipedia.org/wiki/Line%E2%80%93plane_intersection#Algebraic_form](https://en.wikipedia.org/wiki/Line%E2%80%93plane_intersection#Algebraic_form)).\n",
    "5. n:=n+1\n",
    "6. Jeżeli liczba iteracji jest mniejsza od założonej, to wróć do 2.\n",
    "\n",
    "### Zadanie 1 (3 pkt)\n",
    "Zastosuj ten algorytm do minimalizacji funkcji $ f(x,y)=-(2+x)^{2}-2y^2 $ na trójkącie o wierzchołkach (-1,0), (1,0) i (-1,-1)."
   ],
   "metadata": {
    "collapsed": false,
    "pycharm": {
     "name": "#%% md\n"
    }
   }
  },
  {
   "cell_type": "code",
   "execution_count": 76,
   "metadata": {
    "collapsed": true,
    "pycharm": {
     "name": "#%%\n"
    }
   },
   "outputs": [],
   "source": [
    "from autograd import grad\n",
    "from autograd import numpy as np\n",
    "import matplotlib.pyplot as plt"
   ]
  },
  {
   "cell_type": "code",
   "execution_count": 319,
   "outputs": [
    {
     "name": "stdout",
     "output_type": "stream",
     "text": [
      "[-1.  2.]\n",
      "[-1.  2.]\n"
     ]
    }
   ],
   "source": [
    "def function(x):\n",
    "    return -(2 + x[0]) ** 2 - 2 * x[1] ** 2\n",
    "\n",
    "## PISZ TUTAJ"
   ],
   "metadata": {
    "collapsed": false,
    "pycharm": {
     "name": "#%%\n"
    }
   }
  },
  {
   "cell_type": "code",
   "execution_count": 320,
   "outputs": [
    {
     "data": {
      "text/plain": "[<matplotlib.lines.Line2D at 0x22aeaa0ef08>]"
     },
     "execution_count": 320,
     "metadata": {},
     "output_type": "execute_result"
    },
    {
     "data": {
      "text/plain": "<Figure size 432x288 with 1 Axes>",
      "image/png": "[encoded data removed]"
     },
     "metadata": {
      "needs_background": "light"
     },
     "output_type": "display_data"
    }
   ],
   "source": [
    "x = np.linspace(-2,2,100)\n",
    "y = np.linspace(-1,3,100)\n",
    "xx,yy = np.meshgrid(x,y)\n",
    "z = function(np.array([xx,yy]))\n",
    "plt.contourf(xx,yy,z, levels=20)\n",
    "plt.plot([-1,1,-1, -1],[0,0,2,0], c='r')\n",
    "plt.plot(history[:-2,0],history[:-2,1], '-o', c='b')\n",
    "plt.plot(history2[:-2,0],history2[:-2,1], '-o', c='r')"
   ],
   "metadata": {
    "collapsed": false,
    "pycharm": {
     "name": "#%%\n"
    }
   }
  },
  {
   "cell_type": "markdown",
   "source": [
    "## Zadanie 2 - Optymalizacja rozmiarów haka (3 pkt)\n",
    "\n",
    "Załóżmy, że mamy hak, który ma wytrzymać obciążenie wywoływane przez ciężar ciała w wysokości $F=100N$ zawieszone jak na rysunku. Hak jest wykonany z pierścienia o promieniu wewnętrznym $r_i > 1.5 mm$ oraz promieniu zewnętrznym $r_o$, a jego grubość wynosi co najmniej $b > 0.2mm$.\n",
    "\n",
    "![](hook.png)\n",
    "\n",
    "Neutralny promień haka definiujemy następująco:\n",
    "\n",
    "$$r_n = \\frac{r_o-r_i}{\\ln{\\frac{r_o}{r_i}}}$$\n",
    "\n",
    "Średni promień $R$ jest średnią arytmetyczną $r_i$ oraz $r_o$. Naprężenie w punkcie A możemy wyznaczyć z zależności:\n",
    "\n",
    "$$ \\sigma_A=\\frac{FR(r_o-r_n)}{b(r_o-r_i)er_o} $$\n",
    "\n",
    "A w punkcie B z zależności:\n",
    "\n",
    "$$ \\sigma_B=\\frac{FR(r_n-r_i)}{b(r_o-r_i)er_i} $$\n",
    "\n",
    "gdzie $e=R-r_n$, a naprężenie w tych punktach nie może przekroczyć $430\\frac{N}{mm^2}$. Wyznacz za pomocą metody minimize z pakietu scipy.optimize takie wymiary haka ($r_0$, $r_i$ oraz $b$) aby ilość materiału potrzebnego do wykonania go (objętość) była jak najmniejsza.\n",
    "\n",
    "Do znajdowania minimum funkcji z ograniczeniami (constraint oraz bounds) służy metoda Sequential Quadratic Programming (zwana w pakiecie scipy Sequential Least Square Quadratic Programming - \"SLSQP\"), o której więcej można przeczytać w [https://www.math.uh.edu/~rohop/fall_06/Chapter4.pdf](https://www.math.uh.edu/~rohop/fall_06/Chapter4.pdf). Omówienie tej metody wykracza poza zakres tego przedmiotu."
   ],
   "metadata": {
    "collapsed": false,
    "pycharm": {
     "name": "#%% md\n"
    }
   }
  },
  {
   "cell_type": "code",
   "execution_count": 4,
   "outputs": [],
   "source": [
    "from scipy import optimize"
   ],
   "metadata": {
    "collapsed": false,
    "pycharm": {
     "name": "#%%\n"
    }
   }
  },
  {
   "cell_type": "code",
   "execution_count": 48,
   "outputs": [
    {
     "name": "stdout",
     "output_type": "stream",
     "text": [
      "r_o =  3.3893429231291727 , r_i =  1.5 , b =  1.292232101486737\n"
     ]
    }
   ],
   "source": [
    "## PISZ TUTAJ"
   ],
   "metadata": {
    "collapsed": false,
    "pycharm": {
     "name": "#%%\n"
    }
   }
  },
  {
   "cell_type": "code",
   "execution_count": null,
   "outputs": [],
   "source": [],
   "metadata": {
    "collapsed": false,
    "pycharm": {
     "name": "#%%\n"
    }
   }
  }
 ],
 "metadata": {
  "kernelspec": {
   "display_name": "Python 3",
   "language": "python",
   "name": "python3"
  },
  "language_info": {
   "codemirror_mode": {
    "name": "ipython",
    "version": 2
   },
   "file_extension": ".py",
   "mimetype": "text/x-python",
   "name": "python",
   "nbconvert_exporter": "python",
   "pygments_lexer": "ipython2",
   "version": "2.7.6"
  }
 },
 "nbformat": 4,
 "nbformat_minor": 0
}