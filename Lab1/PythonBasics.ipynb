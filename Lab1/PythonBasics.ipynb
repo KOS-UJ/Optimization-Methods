{
 "cells": [
  {
   "cell_type": "markdown",
   "metadata": {
    "pycharm": {
     "name": "#%% md\n"
    }
   },
   "source": [
    "# Podstawy Pythona"
   ]
  },
  {
   "cell_type": "markdown",
   "metadata": {
    "pycharm": {
     "name": "#%% md\n"
    }
   },
   "source": [
    "Python jest językiem interpretowanym, tzn. jest językiem, w którym programy (zwykle) nie są kompilowane do kodu maszynowego, który jest wykonywany, lecz program jest przechowywany w postaci kodu źródłowego i wykonywany przez interpreter języka.<br>\n",
    "Tutaj korzystamy ze środowiska Jupyter, możesz uruchamiać kod zawarty w komórce za pomocą kombinacji `Ctrl+Enter`.\n",
    "Jeżeli masz konto Google, to możesz uruchomić notebooka jupyterowego w Google Colaboratory:"
   ]
  },
  {
   "cell_type": "markdown",
   "metadata": {
    "pycharm": {
     "name": "#%% md\n"
    }
   },
   "source": [
    "### Hello world"
   ]
  },
  {
   "cell_type": "code",
   "execution_count": 8,
   "metadata": {
    "pycharm": {
     "name": "#%%\n"
    }
   },
   "outputs": [
    {
     "name": "stdout",
     "output_type": "stream",
     "text": [
      "Hello world\n"
     ]
    }
   ],
   "source": [
    "print(\"Hello world\")"
   ]
  },
  {
   "cell_type": "markdown",
   "metadata": {
    "pycharm": {
     "name": "#%% md\n"
    }
   },
   "source": [
    "Równie dobrze możesz utworzyć plik `skrypt.py` w którym zawrzesz powyższy kod i możesz go uruchomić poleceniem `python skrypt.py`, jeżeli masz zainstalowany interpreter Pythona."
   ]
  },
  {
   "cell_type": "markdown",
   "metadata": {
    "pycharm": {
     "name": "#%% md\n"
    }
   },
   "source": [
    "### Zmienne"
   ]
  },
  {
   "cell_type": "code",
   "execution_count": 11,
   "metadata": {
    "pycharm": {
     "name": "#%%\n"
    }
   },
   "outputs": [
    {
     "name": "stdout",
     "output_type": "stream",
     "text": [
      "11\n",
      "ala ma kota\n"
     ]
    }
   ],
   "source": [
    "a = 5\n",
    "b = 6\n",
    "print(a + b)\n",
    "c = \"ala ma\"\n",
    "a = \" kota\"\n",
    "print(c + a)"
   ]
  },
  {
   "cell_type": "markdown",
   "metadata": {
    "pycharm": {
     "name": "#%% md\n"
    }
   },
   "source": [
    "Zmienne nie mają przypisanych typów, możemy w trakcie działania programu przypisywać do nich cokolwiek - raz nasza zmienna a przechowuje liczbę, a później ciąg znaków.\n",
    "Czasem może to utrudniać życie, więc można w pewien sposób \"przypisać\" typ - to będzie właściwie informacja dla naszego edytora, czy środowiska programistycznego (żeby np. odpowiednio podpowiadał metody), będzie to ignorowane przez interpreter."
   ]
  },
  {
   "cell_type": "code",
   "execution_count": 15,
   "metadata": {
    "pycharm": {
     "name": "#%%\n"
    }
   },
   "outputs": [
    {
     "name": "stdout",
     "output_type": "stream",
     "text": [
      "to niby nie tekst\n"
     ]
    }
   ],
   "source": [
    "a: int = 5\n",
    "b: int = 6\n",
    "c: str = \"tekst\"\n",
    "d: int = \"to niby nie tekst\"\n",
    "print(d)"
   ]
  },
  {
   "cell_type": "markdown",
   "metadata": {
    "pycharm": {
     "name": "#%% md\n"
    }
   },
   "source": [
    "### Listy, krotki i słowniki\n",
    "Są to podstawowe struktury danych w Pythonie, przykłady ich są poniżej."
   ]
  },
  {
   "cell_type": "code",
   "execution_count": 29,
   "metadata": {
    "pycharm": {
     "name": "#%%\n"
    }
   },
   "outputs": [
    {
     "name": "stdout",
     "output_type": "stream",
     "text": [
      "[-1, 2, 3, 'kot', 1.5, 666]\n"
     ]
    }
   ],
   "source": [
    "# lista\n",
    "my_list = [1,2,3,\"kot\",3/2]\n",
    "my_list.append(666)\n",
    "my_list[0] = -1\n",
    "print(my_list)"
   ]
  },
  {
   "cell_type": "code",
   "execution_count": 30,
   "metadata": {
    "pycharm": {
     "name": "#%%\n"
    }
   },
   "outputs": [
    {
     "name": "stdout",
     "output_type": "stream",
     "text": [
      "(1, 2, 3, 2)\n"
     ]
    }
   ],
   "source": [
    "# krotka\n",
    "# różni się tym od listy, że jest niemodyfikowalna\n",
    "my_tuple = (1,2,3)\n",
    "# to poniżej nie przejdzie\n",
    "#my_tuple[1] = 10 \n",
    "print(my_tuple + (2,)) # ale można krotki np. konkatenować"
   ]
  },
  {
   "cell_type": "code",
   "execution_count": 31,
   "metadata": {
    "pycharm": {
     "name": "#%%\n"
    }
   },
   "outputs": [
    {
     "name": "stdout",
     "output_type": "stream",
     "text": [
      "55\n",
      "None\n",
      "0\n",
      "{'a': 10, 'b': 66, 'c': '', 'd': 5}\n"
     ]
    }
   ],
   "source": [
    "# słownik\n",
    "my_dict = {\"a\" : 55, \"b\" : 66, \"c\": \"\"}\n",
    "print(my_dict[\"a\"])\n",
    "# to poniżej nie przejdzie\n",
    "#print(my_dict[\"d\"])\n",
    "print(my_dict.get(\"d\"))\n",
    "# możemy dać domyślną wartość, która zostanie zwrócona, gdy nie znajdziemy elementu\n",
    "print(my_dict.get(\"d\", 0))\n",
    "my_dict[\"d\"] = 5\n",
    "my_dict[\"a\"] = 10\n",
    "print(my_dict)"
   ]
  },
  {
   "cell_type": "markdown",
   "metadata": {
    "pycharm": {
     "name": "#%% md\n"
    }
   },
   "source": [
    "### Instrukcje warunkowe i pętle\n",
    "Mamy do dyspozycji pętlę while oraz for-each. Pętlę będą wykonywać kod w bloku (wydzielonym wcięciem!) dopóki warunek będzie spełniony (while) lub są elementy w obiekcie po którym można iterować (for-each)."
   ]
  },
  {
   "cell_type": "code",
   "execution_count": 35,
   "metadata": {
    "pycharm": {
     "name": "#%%\n"
    }
   },
   "outputs": [
    {
     "name": "stdout",
     "output_type": "stream",
     "text": [
      "podzielna przez 3\n"
     ]
    }
   ],
   "source": [
    "a = 6\n",
    "if a % 3 == 0:\n",
    "    print(\"podzielna przez 3\")\n",
    "elif a % 5 == 0:\n",
    "    print(\"podzielna przez 5\")\n",
    "else:\n",
    "    print(\"niepodzielna przez 3 ani 5\")"
   ]
  },
  {
   "cell_type": "code",
   "execution_count": 34,
   "metadata": {
    "pycharm": {
     "name": "#%%\n"
    }
   },
   "outputs": [
    {
     "name": "stdout",
     "output_type": "stream",
     "text": [
      "[25, 16, 9, 4, 1]\n"
     ]
    }
   ],
   "source": [
    "i = 5\n",
    "my_list_two = list()\n",
    "while i > 0:\n",
    "    my_list_two.append(i*i)\n",
    "    i -= 1\n",
    "print(my_list_two)"
   ]
  },
  {
   "cell_type": "code",
   "execution_count": 28,
   "metadata": {
    "pycharm": {
     "name": "#%%\n"
    }
   },
   "outputs": [
    {
     "name": "stdout",
     "output_type": "stream",
     "text": [
      "-1\n",
      "2\n",
      "3\n",
      "kot\n",
      "1.5\n",
      "666\n"
     ]
    }
   ],
   "source": [
    "for item in my_list:\n",
    "    print(item)"
   ]
  },
  {
   "cell_type": "code",
   "execution_count": 32,
   "metadata": {
    "pycharm": {
     "name": "#%%\n"
    }
   },
   "outputs": [
    {
     "name": "stdout",
     "output_type": "stream",
     "text": [
      "0\n",
      "1\n",
      "4\n",
      "9\n",
      "16\n"
     ]
    }
   ],
   "source": [
    "for i in range(5):\n",
    "    print(i*i)"
   ]
  },
  {
   "cell_type": "code",
   "execution_count": 33,
   "metadata": {
    "pycharm": {
     "name": "#%%\n"
    }
   },
   "outputs": [
    {
     "name": "stdout",
     "output_type": "stream",
     "text": [
      "9\n",
      "16\n"
     ]
    }
   ],
   "source": [
    "for i in range(3,5):\n",
    "    print(i*i)"
   ]
  },
  {
   "cell_type": "markdown",
   "metadata": {
    "pycharm": {
     "name": "#%% md\n"
    }
   },
   "source": [
    "### Comprehentions\n",
    "Pewną cechą pythona jest możliwość stosowania wyrażeń (comprehentions) przy generowaniu list, czy słowników. Chcemy np. wygenerować listę kwadratów liczb. Można np. zrobić to tak:"
   ]
  },
  {
   "cell_type": "code",
   "execution_count": 39,
   "metadata": {
    "pycharm": {
     "name": "#%%\n"
    }
   },
   "outputs": [
    {
     "name": "stdout",
     "output_type": "stream",
     "text": [
      "[0, 1, 4, 9, 16, 25, 36, 49, 64, 81]\n"
     ]
    }
   ],
   "source": [
    "a = list()\n",
    "for x in range(10):\n",
    "    a.append(x ** 2)\n",
    "print(a)"
   ]
  },
  {
   "cell_type": "markdown",
   "metadata": {
    "pycharm": {
     "name": "#%% md\n"
    }
   },
   "source": [
    "Można to jednak zastąpić takim wyrażeniem:"
   ]
  },
  {
   "cell_type": "code",
   "execution_count": 43,
   "metadata": {
    "pycharm": {
     "name": "#%%\n"
    }
   },
   "outputs": [
    {
     "name": "stdout",
     "output_type": "stream",
     "text": [
      "[0, 1, 8, 27, 64, 125, 216, 343, 512, 729]\n"
     ]
    }
   ],
   "source": [
    "print([x ** 3 for x in range(10)])"
   ]
  },
  {
   "cell_type": "markdown",
   "metadata": {
    "pycharm": {
     "name": "#%% md\n"
    }
   },
   "source": [
    "Można też dodawać filtry - np. chcemy kwadraty tych liczb, które nie są podzielne przez 3:"
   ]
  },
  {
   "cell_type": "code",
   "execution_count": 42,
   "metadata": {
    "pycharm": {
     "name": "#%%\n"
    }
   },
   "outputs": [
    {
     "name": "stdout",
     "output_type": "stream",
     "text": [
      "[1, 4, 16, 25, 49, 64]\n"
     ]
    }
   ],
   "source": [
    "print([x ** 2 for x in range(10) if x % 3 != 0])"
   ]
  },
  {
   "cell_type": "markdown",
   "metadata": {
    "pycharm": {
     "name": "#%% md\n"
    }
   },
   "source": [
    "Słownik możemy wygenerować w ten sposób:"
   ]
  },
  {
   "cell_type": "code",
   "execution_count": 44,
   "metadata": {
    "pycharm": {
     "name": "#%%\n"
    }
   },
   "outputs": [
    {
     "name": "stdout",
     "output_type": "stream",
     "text": [
      "{1: 1, 2: 4, 4: 16, 5: 25, 7: 49, 8: 64}\n"
     ]
    }
   ],
   "source": [
    "print({x: x ** 2 for x in range(10) if x % 3 != 0})"
   ]
  },
  {
   "cell_type": "markdown",
   "metadata": {
    "pycharm": {
     "name": "#%% md\n"
    }
   },
   "source": [
    "### Funkcje\n",
    "To jak działa funkcja powinno być w miarę jasne :) Po znaku równości jest podana wartość domyślna. Więc podam tylko przykład:"
   ]
  },
  {
   "cell_type": "code",
   "execution_count": 50,
   "metadata": {
    "pycharm": {
     "name": "#%%\n"
    }
   },
   "outputs": [
    {
     "name": "stdout",
     "output_type": "stream",
     "text": [
      "[0, 1, 4, 9, 16, 25, 36, 49, 64, 81]\n",
      "[0, 1, 4, 9, 16]\n"
     ]
    }
   ],
   "source": [
    "def list_of_squares(a = 10):\n",
    "    return [x ** 2 for x in range(a)]\n",
    "print(list_of_squares())\n",
    "print(list_of_squares(5))"
   ]
  },
  {
   "cell_type": "markdown",
   "metadata": {
    "pycharm": {
     "name": "#%% md\n"
    }
   },
   "source": [
    "Podobnie jak w wypadku zmiennych można podać spodziewany typ. Można także podać spodziewany typ wartości zwracanej."
   ]
  },
  {
   "cell_type": "code",
   "execution_count": 54,
   "metadata": {
    "pycharm": {
     "name": "#%%\n"
    }
   },
   "outputs": [],
   "source": [
    "def list_of_squares(a: int = 10) -> list:\n",
    "    return [x ** 2 for x in range(a)]"
   ]
  },
  {
   "cell_type": "code",
   "execution_count": 61,
   "metadata": {
    "pycharm": {
     "name": "#%%\n"
    }
   },
   "outputs": [
    {
     "name": "stdout",
     "output_type": "stream",
     "text": [
      "-1\n",
      "-3\n",
      "8\n"
     ]
    }
   ],
   "source": [
    "#różnica 2 liczb\n",
    "def substract(a, b=5):\n",
    "    return a-b\n",
    "print(substract(2,3))\n",
    "print(substract(2))\n",
    "print(substract(b=2, a=10))"
   ]
  },
  {
   "cell_type": "code",
   "execution_count": 60,
   "metadata": {
    "pycharm": {
     "name": "#%%\n"
    }
   },
   "outputs": [
    {
     "name": "stdout",
     "output_type": "stream",
     "text": [
      "12\n"
     ]
    }
   ],
   "source": [
    "#funkcja zwracająca sumę dzielników\n",
    "def divisors_sum(a: int) -> int:\n",
    "    return sum(x for x in range(1, a + 1) if a % x == 0)\n",
    "print(divisors_sum(6))"
   ]
  },
  {
   "cell_type": "markdown",
   "metadata": {
    "pycharm": {
     "name": "#%% md\n"
    }
   },
   "source": [
    "### Klasy i obiekty"
   ]
  },
  {
   "cell_type": "code",
   "execution_count": 75,
   "metadata": {
    "pycharm": {
     "name": "#%%\n"
    }
   },
   "outputs": [
    {
     "name": "stdout",
     "output_type": "stream",
     "text": [
      "I am static mathod\n",
      "Brum, brum\n",
      "Brum, brum\n",
      "Brum, brum\n",
      "Brum, brum\n",
      "Brum, brum\n",
      "Brum, brum\n",
      "Brum, brum\n",
      "Brum, brum\n",
      "Brum, brum\n",
      "Brum, brum\n",
      "John Doe\n"
     ]
    }
   ],
   "source": [
    "class Person:\n",
    "    def __init__(self, name, surname):\n",
    "        self.name = name\n",
    "        self.surname = surname\n",
    "\n",
    "class Car:\n",
    "    def __init__(self, owner: Person, colour = \"black\", max_speed = 100, brand = \"Volvo\"):\n",
    "        self.colour = colour\n",
    "        self.max_speed = max_speed\n",
    "        self.owner = owner\n",
    "        self.brand = brand\n",
    "    \n",
    "    def run(self):\n",
    "        for i in range(self.max_speed // 10):\n",
    "            print(\"Brum, brum\")\n",
    "    \n",
    "    def print_owner(self):\n",
    "        print(self.owner.name + \" \" + self.owner.surname)\n",
    "    \n",
    "    @staticmethod\n",
    "    def some_static():\n",
    "        return \"I am static mathod\"\n",
    "\n",
    "print(Car.some_static())\n",
    "john = Person(\"John\", \"Doe\")\n",
    "car = Car (john, \"yellow\")\n",
    "car.run()\n",
    "car.print_owner()"
   ]
  },
  {
   "cell_type": "markdown",
   "metadata": {
    "pycharm": {
     "name": "#%% md\n"
    }
   },
   "source": [
    "Metoda `__init__()` jest jedną z metod magicznych (https://rszalski.github.io/magicmethods/) - jest tu konstruktorem. <br>\n",
    "Jedna z metod w klasie Car (`some_static()`) jest metodą statyczną - czyli metodą niepowiązaną z obiektem danej klasy. Metody statyczne oznacza się tzw. dekoratorem `@staticmethod`. Pozostałe metody przy wywołaniu `obiekt.metoda()` mają zaaplikownay obiekt jako 1 argument tzn., że wywołanie `obiekt.metoda(argument)` jest równoważne `Klasa.metoda(obiekt,argument)`."
   ]
  },
  {
   "cell_type": "code",
   "execution_count": 76,
   "metadata": {
    "pycharm": {
     "name": "#%%\n"
    }
   },
   "outputs": [],
   "source": [
    "class A:\n",
    "    pass\n",
    "\n",
    "class B:\n",
    "    pass\n",
    "\n",
    "class C(A,B):\n",
    "    pass"
   ]
  },
  {
   "cell_type": "markdown",
   "metadata": {
    "pycharm": {
     "name": "#%% md\n"
    }
   },
   "source": [
    "`pass` oznacza instrukcję, która nie orbi nic. Python obsługuje dziedziczenie klas, w tym dziedziczenie wielokrotne - klasa A w przykładzie powyżej dziedziczy jednocześnie po A i B."
   ]
  },
  {
   "cell_type": "code",
   "execution_count": 77,
   "metadata": {
    "pycharm": {
     "name": "#%%\n"
    }
   },
   "outputs": [
    {
     "ename": "TypeError",
     "evalue": "Cannot create a consistent method resolution\norder (MRO) for bases A, C",
     "output_type": "error",
     "traceback": [
      "\u001B[1;31m---------------------------------------------------------------------------\u001B[0m",
      "\u001B[1;31mTypeError\u001B[0m                                 Traceback (most recent call last)",
      "\u001B[1;32m<ipython-input-77-e6467c92b3a0>\u001B[0m in \u001B[0;36m<module>\u001B[1;34m\u001B[0m\n\u001B[0;32m      8\u001B[0m     \u001B[1;32mpass\u001B[0m\u001B[1;33m\u001B[0m\u001B[1;33m\u001B[0m\u001B[0m\n\u001B[0;32m      9\u001B[0m \u001B[1;33m\u001B[0m\u001B[0m\n\u001B[1;32m---> 10\u001B[1;33m \u001B[1;32mclass\u001B[0m \u001B[0mD\u001B[0m\u001B[1;33m(\u001B[0m\u001B[0mA\u001B[0m\u001B[1;33m,\u001B[0m \u001B[0mC\u001B[0m\u001B[1;33m)\u001B[0m\u001B[1;33m:\u001B[0m\u001B[1;33m\u001B[0m\u001B[1;33m\u001B[0m\u001B[0m\n\u001B[0m\u001B[0;32m     11\u001B[0m     \u001B[1;32mpass\u001B[0m\u001B[1;33m\u001B[0m\u001B[1;33m\u001B[0m\u001B[0m\n",
      "\u001B[1;31mTypeError\u001B[0m: Cannot create a consistent method resolution\norder (MRO) for bases A, C"
     ]
    }
   ],
   "source": [
    "class A:\n",
    "    pass\n",
    "\n",
    "class B(A):\n",
    "    pass\n",
    "\n",
    "class C(B):\n",
    "    pass\n",
    "\n",
    "class D(A, C):\n",
    "    pass"
   ]
  },
  {
   "cell_type": "markdown",
   "metadata": {
    "pycharm": {
     "name": "#%% md\n"
    }
   },
   "source": [
    "Lecz nie każda konbinacja klas, po których się dziedziczy jest dozwolona."
   ]
  },
  {
   "cell_type": "code",
   "execution_count": null,
   "metadata": {
    "pycharm": {
     "name": "#%%\n"
    }
   },
   "outputs": [],
   "source": []
  }
 ],
 "metadata": {
  "kernelspec": {
   "display_name": "Python 3",
   "language": "python",
   "name": "python3"
  },
  "language_info": {
   "codemirror_mode": {
    "name": "ipython",
    "version": 3
   },
   "file_extension": ".py",
   "mimetype": "text/x-python",
   "name": "python",
   "nbconvert_exporter": "python",
   "pygments_lexer": "ipython3",
   "version": "3.7.1"
  }
 },
 "nbformat": 4,
 "nbformat_minor": 2
}