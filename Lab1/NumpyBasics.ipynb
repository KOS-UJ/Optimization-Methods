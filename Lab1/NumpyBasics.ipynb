{
 "cells": [
  {
   "cell_type": "code",
   "execution_count": null,
   "outputs": [],
   "source": [
    "import numpy as np"
   ],
   "metadata": {
    "collapsed": false,
    "pycharm": {
     "name": "#%%\n"
    }
   }
  },
  {
   "cell_type": "markdown",
   "source": [
    "## Numpy"
   ],
   "metadata": {
    "collapsed": false,
    "pycharm": {
     "name": "#%% md\n"
    }
   }
  },
  {
   "cell_type": "markdown",
   "metadata": {
    "collapsed": true,
    "pycharm": {
     "name": "#%% md\n"
    }
   },
   "source": [
    "Numpy to podstawowa biblioteka do obliczeń naukowych w Pythonie. Jeżeli masz zainstalowany interpreter Pythona i menedżer pakietów pip, to możesz zainstalować numpy za pomocą: pip install numpy. W Google Collaboratory ten pakiet jest domyślnie zainstalowany.\n",
    "Podstawowym obiektem używanym w pakiecie numpy jest ndarray. Jest to wydajna wielowymiarowa tablica."
   ]
  },
  {
   "cell_type": "code",
   "execution_count": 3,
   "outputs": [
    {
     "name": "stdout",
     "output_type": "stream",
     "text": [
      "(3,)\n",
      "1 2 3\n",
      "[5 2 3]\n",
      "========b========\n",
      "(2, 3)\n",
      "[[1 2 3]\n",
      " [4 5 6]]\n",
      "1 2\n"
     ]
    }
   ],
   "source": [
    "a = np.array([1, 2, 3])   # Tworzy tablicę wymiaru 1 o wartościcach 1, 2, 3\n",
    "print(a.shape) # zwraca krotkę z rozmiarem tablicy w każdym wymiarze\n",
    "print(a[0], a[1], a[2])\n",
    "a[0] = 5\n",
    "print(a)\n",
    "\n",
    "print(\"========b========\")\n",
    "b = np.array([[1,2,3],[4,5,6]])\n",
    "print(b.shape)\n",
    "print(b)\n",
    "print(b[0, 0], b[0, 1])"
   ],
   "metadata": {
    "collapsed": false,
    "pycharm": {
     "name": "#%%\n"
    }
   }
  },
  {
   "cell_type": "markdown",
   "source": [
    "Na tablicach wielowymiarowych można wykonywać operacje cięcia (slicing) jak np.:"
   ],
   "metadata": {
    "collapsed": false,
    "pycharm": {
     "name": "#%% md\n"
    }
   }
  },
  {
   "cell_type": "code",
   "execution_count": 16,
   "outputs": [
    {
     "name": "stdout",
     "output_type": "stream",
     "text": [
      "[1 2 3]\n",
      "[ 1  4  7 10]\n",
      "[[4 5 6]\n",
      " [7 8 9]]\n",
      "[[ 7  8  9]\n",
      " [10 11 12]]\n",
      "[[1 2 3]\n",
      " [4 5 6]\n",
      " [7 8 9]]\n"
     ]
    }
   ],
   "source": [
    "b = np.array([[1,2,3],[4,5,6], [7,8,9], [10,11,12]])\n",
    "print(b[0,:]) # wiersz o indeksie 0\n",
    "print(b[:,0]) # kolumna o indekcie 0\n",
    "print(b[1:3,:]) # wiersze od #1 do #3 (bez #3)\n",
    "print(b[2:,:]) # wiersze od #2 do ostatniego\n",
    "print(b[:3,:]) # wiersze od #0 do #3 (bez #3)"
   ],
   "metadata": {
    "collapsed": false,
    "pycharm": {
     "name": "#%%\n"
    }
   }
  },
  {
   "cell_type": "markdown",
   "source": [
    "Istnieje kilka metod pozwalających stworzyć tablice o określonych właściwościach jak np.:"
   ],
   "metadata": {
    "collapsed": false,
    "pycharm": {
     "name": "#%% md\n"
    }
   }
  },
  {
   "cell_type": "code",
   "execution_count": 27,
   "outputs": [
    {
     "name": "stdout",
     "output_type": "stream",
     "text": [
      "[[0. 0.]\n",
      " [0. 0.]]\n",
      "[[1. 1.]\n",
      " [1. 1.]]\n",
      "[[3 3]\n",
      " [3 3]]\n",
      "[[1. 0.]\n",
      " [0. 1.]]\n",
      "[0 1 2 3 4 5 6 7 8 9]\n"
     ]
    }
   ],
   "source": [
    "a = np.zeros((2,2))\n",
    "print(a)\n",
    "\n",
    "b = np.ones((2,2))\n",
    "print(b)\n",
    "\n",
    "c = np.full((2,2), 3)\n",
    "print(c)\n",
    "\n",
    "d = np.eye(2)\n",
    "print(d)\n",
    "\n",
    "e = np.arange(10)\n",
    "print(e)"
   ],
   "metadata": {
    "collapsed": false,
    "pycharm": {
     "name": "#%%\n"
    }
   }
  },
  {
   "cell_type": "markdown",
   "source": [
    "### Operacje na tablicach numpy'owych"
   ],
   "metadata": {
    "collapsed": false,
    "pycharm": {
     "name": "#%% md\n"
    }
   }
  },
  {
   "cell_type": "code",
   "execution_count": 25,
   "outputs": [
    {
     "name": "stdout",
     "output_type": "stream",
     "text": [
      "[[ 6.  8.]\n",
      " [10. 12.]]\n",
      "[[ 5. 12.]\n",
      " [21. 32.]]\n",
      "[[19. 22.]\n",
      " [43. 50.]]\n",
      "[[19. 22.]\n",
      " [43. 50.]]\n",
      "[[1. 3.]\n",
      " [2. 4.]]\n",
      "[[1.         1.41421356]\n",
      " [1.73205081 2.        ]]\n"
     ]
    }
   ],
   "source": [
    "x = np.array([[1,2],[3,4]], dtype=np.float64)\n",
    "y = np.array([[5,6],[7,8]], dtype=np.float64)\n",
    "\n",
    "print(x + y) # dodawanie macierzy\n",
    "\n",
    "print(x * y) # mnożenie tzw. element-wise\n",
    "\n",
    "print(x @ y) # mnożenie macierzowe\n",
    "print(x.dot(y)) # alternatywne mnożenie macierzowe\n",
    "\n",
    "print(x.T) # transponowanie macierzy\n",
    "\n",
    "print(np.sqrt(x)) # zadziałanie jakąś funkcją matematyczną przyjmującą jedną liczbę na tablicy sprawi, że zostanie zwrócony wynik na jej każdym elemencie"
   ],
   "metadata": {
    "collapsed": false,
    "pycharm": {
     "name": "#%%\n"
    }
   }
  },
  {
   "cell_type": "markdown",
   "source": [
    "### Broadcasting\n",
    "Broadcasting to potężny mechanizm, który pozwala numpy pracować z tablicami o różnych kształtach podczas wykonywania operacji arytmetycznych. Często mamy mniejszą tablicę i większą tablicę, a chcemy użyć mniejszej tablicy wiele razy, aby wykonać jakąś operację na tej większej."
   ],
   "metadata": {
    "collapsed": false,
    "pycharm": {
     "name": "#%% md\n"
    }
   }
  },
  {
   "cell_type": "code",
   "execution_count": 24,
   "outputs": [
    {
     "name": "stdout",
     "output_type": "stream",
     "text": [
      "[[2. 3. 4.]\n",
      " [2. 3. 4.]\n",
      " [2. 3. 4.]]\n",
      "[[1]\n",
      " [2]\n",
      " [3]]\n",
      "[[2. 2. 2.]\n",
      " [3. 3. 3.]\n",
      " [4. 4. 4.]]\n"
     ]
    }
   ],
   "source": [
    "a = np.ones((3,3))\n",
    "b = np.array([1,2,3])\n",
    "print(a+b)\n",
    "print(b.reshape(-1,1))\n",
    "print(a+b.reshape(-1,1))"
   ],
   "metadata": {
    "collapsed": false,
    "pycharm": {
     "name": "#%%\n"
    }
   }
  },
  {
   "cell_type": "markdown",
   "source": [
    "## Zadania\n",
    "\n",
    "1. Napisz jednoargumentową funkcję w Pythonie, która będzie zwracać true, gdy liczba podana jako argument będzie pierwsza lub false w przeciwnym wypadku. Używając tej funkcji napisz list comprehention, które wygeneruje tablicę liczb pierwszych mniejszych od 100. Wskazówka: range(100) zwróci generator liczb od 0 do 99 włącznie.\n",
    "2. Napisz funkcję, która dla danej tablicy numpy'owej zwróci drugą co do wielkości wartość. (Mogą się przydać takie funkcje jak np.max, czy np.where)\n",
    "3. Napisz funkcję używającą numpy, która obliczy przybliżone odwrócenie macierzy korzystając z np.linalg.solve, które służy do rozwiązywania układów równań liniowych i macierzowych.\n",
    "4. Używając broadcastingu napisz funkcję przyjmującą argument n, która wygeneruje tabliczkę mnożenia n na n w postaci tablicy numpy'owej."
   ],
   "metadata": {
    "collapsed": false,
    "pycharm": {
     "name": "#%% md\n"
    }
   }
  },
  {
   "cell_type": "code",
   "execution_count": null,
   "outputs": [],
   "source": [],
   "metadata": {
    "collapsed": false,
    "pycharm": {
     "name": "#%%\n"
    }
   }
  }
 ],
 "metadata": {
  "kernelspec": {
   "display_name": "Python 3",
   "language": "python",
   "name": "python3"
  },
  "language_info": {
   "codemirror_mode": {
    "name": "ipython",
    "version": 2
   },
   "file_extension": ".py",
   "mimetype": "text/x-python",
   "name": "python",
   "nbconvert_exporter": "python",
   "pygments_lexer": "ipython2",
   "version": "2.7.6"
  }
 },
 "nbformat": 4,
 "nbformat_minor": 0
}